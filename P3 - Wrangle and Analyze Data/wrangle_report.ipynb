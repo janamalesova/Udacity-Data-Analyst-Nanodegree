{
 "cells": [
  {
   "cell_type": "markdown",
   "metadata": {},
   "source": [
    "# WeRateDogs Data Wrangling \n",
    "## Wrangling Report"
   ]
  },
  {
   "cell_type": "markdown",
   "metadata": {},
   "source": [
    "<li><a href=\"#gather\">Gather</a></li>\n",
    "<li><a href=\"#assess\">Assess</a></li>    \n",
    "<li><a href=\"#clean\">Clean</a></li>   "
   ]
  },
  {
   "cell_type": "markdown",
   "metadata": {},
   "source": [
    "<a id='gather'></a>\n",
    "## Gather\n",
    "\n",
    "Three sources of data were gathered to complete this project:\n",
    "1. **twitter enhanced archive file** - csv downloaded from udacity course site, which includes various information about tweets of WeRateDogs account\n",
    "2. **tweet image predictions file** - tsv requested from udacity site, which includes predictions of objects on images included in WeRateDogs tweets\n",
    "3. **tweet details file** - json file downloaded from twitter using API, which includes information missing from the enhanced archive file, namely retweets and likes counts"
   ]
  },
  {
   "cell_type": "markdown",
   "metadata": {},
   "source": [
    "Data was gathered using different methods:\n",
    "1. csv was read from a file and stored in `df_archive`\n",
    "2. tsv was downloaded using the requests library, written to a file and stored in `df_preds`\n",
    "3. json was gathered using twitter API, stored as txt file, loaded using json library and finally saved as `df_likes`"
   ]
  },
  {
   "cell_type": "markdown",
   "metadata": {},
   "source": [
    "<a id='assess'></a>\n",
    "## Assess\n",
    "\n",
    "We assessed each of the three files separately to look at their structure and to find quality and tidiness issues, of which we found quite a few.<br>\n",
    "We used both visual (namely looking at the data using sample and head methods) and programmatic methods (for example with describe, info, value_counts, nunique, mean methods) to assess the data.<br>\n",
    "<br>\n",
    "The summary of found issues is below. Most of the identified issues come from `df_archive` because that is the main file with the most information in which a lot of inherently imperfect programmatic work was done to extract data from the text column into many new columns."
   ]
  },
  {
   "cell_type": "markdown",
   "metadata": {},
   "source": [
    "### Quality issues\n",
    "\n",
    "**Completeness:**\n",
    "* -\n",
    "\n",
    "**Validity:**\n",
    "* df_archive: we should exclude REtweets\n",
    "* df_archive: we should exclude tweets without images\n",
    "* df_preds: we only want ratings of dogs, i.e. where **px_dog** is True\n",
    "\n",
    "**Accuracy:**\n",
    "* df_archive: ratings of more than 10/10 are acceptable, but there are some really extreme or decimal values of **rating_numerator**, which are wrongly extracted from the text\n",
    "* df_archive: ratings can have various bases, but some **rating_denominator** values are inaccurate based on the text\n",
    "* df_archive: some names and stages have incorrect values\n",
    "\n",
    "**Consistency:**\n",
    "\n",
    "* df_archive: incorrect data types - timestamp should be datetime, rating columns should be floats to allow for decimals\n",
    "* df_preds: some dog names start with an uppercase, some with a lowercase letter\n",
    "\n",
    "\n",
    "### Tidiness issues\n",
    "* df_archive: columns doggo, floofer, pupper, puppo are actually values of a single column **dog_stage**\n",
    "* df_archive: **rating** would make more sense in its own column combining the numerator and denominator columns\n",
    "* df_preds: the columns relevant for analysis can be merged with the main df_archive file, they do not have to be in a separate table\n",
    "* df_preds: some columns will not be interesting for the analysis and can be deleted\n",
    "* df_likes: information should be included in the main archive table, there is no reason to have it in a separate data frame"
   ]
  },
  {
   "cell_type": "markdown",
   "metadata": {},
   "source": [
    "<a id='clean'></a>\n",
    "## Clean\n",
    "\n",
    "We cleaned the following 12 issues in the cleaning process:\n",
    "* **tidiness**: merging all files together, creating a dog stage column, creating a rating column\n",
    "* **quality**: deleting retweets, deleting tweets without an image, deleting tweets with an image not of a dog, cleaning dog stage column, cleaning rating columns, changing datatypes, deleting columns, cleaning name column, making all predicted breed names lowercase\n",
    "\n",
    "Each issue was handled separately using the define-code-test workflow.<br>\n",
    "The cleaning efforts finished with storing the final merged data set as `twitter_archive_master.csv`."
   ]
  }
 ],
 "metadata": {
  "kernelspec": {
   "display_name": "Python 3",
   "language": "python",
   "name": "python3"
  },
  "language_info": {
   "codemirror_mode": {
    "name": "ipython",
    "version": 3
   },
   "file_extension": ".py",
   "mimetype": "text/x-python",
   "name": "python",
   "nbconvert_exporter": "python",
   "pygments_lexer": "ipython3",
   "version": "3.7.7"
  }
 },
 "nbformat": 4,
 "nbformat_minor": 4
}
